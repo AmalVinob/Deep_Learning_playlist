{
 "cells": [
  {
   "cell_type": "code",
   "execution_count": 206,
   "id": "3ce8ecbb",
   "metadata": {},
   "outputs": [],
   "source": [
    "from sklearn.datasets import load_diabetes\n",
    "\n",
    "import numpy as np\n",
    "import pandas as pd\n",
    "import matplotlib.pyplot as plt\n",
    "import seaborn as sns\n",
    "from sklearn.linear_model import LinearRegression\n",
    "from sklearn.model_selection import train_test_split\n",
    "from sklearn.metrics import r2_score\n",
    "\n",
    "import time"
   ]
  },
  {
   "cell_type": "code",
   "execution_count": 207,
   "id": "62f7306b",
   "metadata": {},
   "outputs": [
    {
     "name": "stdout",
     "output_type": "stream",
     "text": [
      "(442, 10)\n",
      "(442,)\n"
     ]
    }
   ],
   "source": [
    "X, y = load_diabetes(return_X_y=True)\n",
    "print(X.shape)\n",
    "print(y.shape)"
   ]
  },
  {
   "cell_type": "code",
   "execution_count": 208,
   "id": "ddc8b2e0",
   "metadata": {},
   "outputs": [],
   "source": [
    "x_train, x_test, y_train, y_test = train_test_split(X, y, test_size=.2, random_state=42)"
   ]
  },
  {
   "cell_type": "code",
   "execution_count": 209,
   "id": "602260ff",
   "metadata": {},
   "outputs": [
    {
     "data": {
      "text/plain": [
       "LinearRegression()"
      ]
     },
     "execution_count": 209,
     "metadata": {},
     "output_type": "execute_result"
    }
   ],
   "source": [
    "reg = LinearRegression()\n",
    "reg.fit(x_train, y_train)"
   ]
  },
  {
   "cell_type": "code",
   "execution_count": 210,
   "id": "2de60b8e",
   "metadata": {},
   "outputs": [
    {
     "name": "stdout",
     "output_type": "stream",
     "text": [
      "r2 : 0.452606602161738\n"
     ]
    }
   ],
   "source": [
    "y_predict = reg.predict(x_test)\n",
    "print(f\"r2 : {r2_score(y_test, y_predict)}\")"
   ]
  },
  {
   "cell_type": "code",
   "execution_count": 211,
   "id": "89619c58",
   "metadata": {},
   "outputs": [
    {
     "name": "stdout",
     "output_type": "stream",
     "text": [
      "151.3456553477407\n",
      "[  37.90031426 -241.96624835  542.42575342  347.70830529 -931.46126093\n",
      "  518.04405547  163.40353476  275.31003837  736.18909839   48.67112488]\n"
     ]
    }
   ],
   "source": [
    "print(reg.intercept_)\n",
    "print(reg.coef_)"
   ]
  },
  {
   "cell_type": "code",
   "execution_count": 212,
   "id": "838eae41",
   "metadata": {},
   "outputs": [
    {
     "name": "stdout",
     "output_type": "stream",
     "text": [
      "Original Coefficient 0: 37.900314258246446\n",
      "Original Coefficient 1: -241.96624835284436\n",
      "Original Coefficient 2: 542.4257534189238\n",
      "Original Coefficient 3: 347.70830529228033\n",
      "Original Coefficient 4: -931.4612609313972\n",
      "Original Coefficient 5: 518.0440554737888\n",
      "Original Coefficient 6: 163.40353476472802\n",
      "Original Coefficient 7: 275.31003836682186\n",
      "Original Coefficient 8: 736.1890983908114\n",
      "Original Coefficient 9: 48.67112488280129\n"
     ]
    }
   ],
   "source": [
    "for i in range(len(reg.coef_)):\n",
    "    coef = reg.coef_[i]\n",
    "    print(f\"Original Coefficient {i}: {coef}\")"
   ]
  },
  {
   "cell_type": "code",
   "execution_count": 213,
   "id": "7ab7b16e",
   "metadata": {},
   "outputs": [],
   "source": [
    "class batch_gradient:\n",
    "    def __init__(self, learning_rate = 0.01, epochs = 100):\n",
    "        self.coef_ = None\n",
    "        self.intercept_ = None\n",
    "        self.lr = learning_rate\n",
    "        self.epochs = epochs\n",
    "\n",
    "    def fit(self, x_train, y_train):\n",
    "        self.intercept_ = 0\n",
    "        self.coef_ = np.ones(x_train.shape[1])\n",
    "\n",
    "        for i in range(self.epochs):\n",
    "            y_hat = np.dot(x_train, self.coef_) + self.intercept_\n",
    "            intercept_dir = -2 * np.mean(y_train - y_hat)\n",
    "            self.intercept_ = self.intercept_ - (self.lr * intercept_dir)\n",
    "            \n",
    "            coef_dir = -2 * np.dot((y_train - y_hat), x_train) / x_train.shape[0]\n",
    "            self.coef_ = self.coef_ - (self.lr * coef_dir)\n",
    "\n",
    "        print(self.intercept_)\n",
    "        print(self.coef_)\n",
    "    \n",
    "    def predict(self, x_test):\n",
    "        return np.dot(x_test , self.coef_) + self.intercept_"
   ]
  },
  {
   "cell_type": "code",
   "execution_count": 214,
   "id": "c2e76da9",
   "metadata": {},
   "outputs": [],
   "source": [
    "gd = batch_gradient(learning_rate=.01, epochs=1000)"
   ]
  },
  {
   "cell_type": "code",
   "execution_count": 215,
   "id": "b7d2aa7a",
   "metadata": {},
   "outputs": [
    {
     "name": "stdout",
     "output_type": "stream",
     "text": [
      "153.4940171499886\n",
      "[ 13.90302476   0.59096965  43.02191501  32.44342839  13.533663\n",
      "  10.25445541 -25.15116865  29.63308353  39.24344815  28.04072329]\n",
      "time needed to fit : 0.047768354415893555\n"
     ]
    }
   ],
   "source": [
    "start = time.time()\n",
    "gd.fit(x_train, y_train)\n",
    "print(f\"time needed to fit : {time.time() - start}\")"
   ]
  },
  {
   "cell_type": "code",
   "execution_count": 216,
   "id": "d902a449",
   "metadata": {},
   "outputs": [],
   "source": [
    "y_pred = gd.predict(x_test)"
   ]
  },
  {
   "cell_type": "code",
   "execution_count": 217,
   "id": "80c34c18",
   "metadata": {},
   "outputs": [
    {
     "data": {
      "text/plain": [
       "0.11221832212572946"
      ]
     },
     "execution_count": 217,
     "metadata": {},
     "output_type": "execute_result"
    }
   ],
   "source": [
    "r2_score(y_test, y_pred)"
   ]
  },
  {
   "cell_type": "code",
   "execution_count": 164,
   "id": "e1e9eada",
   "metadata": {},
   "outputs": [],
   "source": [
    " from sklearn.datasets import load_diabetes\n",
    "\n",
    "import numpy as np\n",
    "import pandas as pd\n",
    "import matplotlib.pyplot as plt\n",
    "import seaborn as sns\n",
    "from sklearn.linear_model import LinearRegression\n",
    "from sklearn.model_selection import train_test_split\n",
    "from sklearn.metrics import r2_score\n"
   ]
  },
  {
   "cell_type": "code",
   "execution_count": 165,
   "id": "958a8beb",
   "metadata": {},
   "outputs": [
    {
     "name": "stdout",
     "output_type": "stream",
     "text": [
      "(442, 10)\n",
      "(442,)\n"
     ]
    }
   ],
   "source": [
    "X, y = load_diabetes(return_X_y=True)\n",
    "print(X.shape)\n",
    "print(y.shape)"
   ]
  },
  {
   "cell_type": "code",
   "execution_count": 166,
   "id": "ea6d7c49",
   "metadata": {},
   "outputs": [],
   "source": [
    "x_train, x_test, y_train, y_test = train_test_split(X, y, test_size=.2, random_state=42)"
   ]
  },
  {
   "cell_type": "code",
   "execution_count": 199,
   "id": "d93b1bd2",
   "metadata": {},
   "outputs": [],
   "source": [
    "class Batch_GD:\n",
    "    \n",
    "    def __init__(self, learning_rate = 0.01, epochs = 100):\n",
    "        self.coef_ = None\n",
    "        self.intercept_ = None\n",
    "        self.lr = learning_rate\n",
    "        self.epochs = epochs\n",
    "        \n",
    "    def fit(self, x_train, y_train):\n",
    "        self.intercept_ = 0\n",
    "        self.coef_ = np.ones(x_train.shape[1])\n",
    "\n",
    "        for i in range(self.epochs): \n",
    "            y_hat = np.dot(x_train, self.coef_) + self.intercept_\n",
    "            intercept_derivative = -2 * np.mean(y_train - y_hat)\n",
    "            self.intercept_ = self.intercept_ - (self.lr * intercept_derivative)\n",
    "            \n",
    "            coef_derivative = -2 * np.dot((y_train - y_hat) , x_train) / x_train.shape[0]\n",
    "            self.coef_ = self.coef_ - (self.lr * coef_derivative)\n",
    "        print(self.intercept_)\n",
    "        print(self.coef_)"
   ]
  },
  {
   "cell_type": "code",
   "execution_count": 204,
   "id": "70b2cfdd",
   "metadata": {},
   "outputs": [],
   "source": [
    "gd = Batch_GD(learning_rate=0.01, epochs=5000)"
   ]
  },
  {
   "cell_type": "code",
   "execution_count": 205,
   "id": "faf727fb",
   "metadata": {},
   "outputs": [
    {
     "name": "stdout",
     "output_type": "stream",
     "text": [
      "152.77808675858614\n",
      "[ 44.41736383 -13.46686368 169.44954448 124.26612061  34.6593315\n",
      "  20.13345588 -97.78964647 101.06327781 147.57786671  97.47260685]\n"
     ]
    }
   ],
   "source": [
    "gd.fit(x_train,y_train)"
   ]
  },
  {
   "cell_type": "code",
   "execution_count": null,
   "id": "a8fc7bc4",
   "metadata": {},
   "outputs": [],
   "source": []
  },
  {
   "cell_type": "code",
   "execution_count": null,
   "id": "221c9ea6",
   "metadata": {},
   "outputs": [],
   "source": []
  },
  {
   "cell_type": "code",
   "execution_count": null,
   "id": "ee5a0ada",
   "metadata": {},
   "outputs": [],
   "source": []
  },
  {
   "cell_type": "code",
   "execution_count": null,
   "id": "38732c58",
   "metadata": {},
   "outputs": [],
   "source": []
  },
  {
   "cell_type": "code",
   "execution_count": null,
   "id": "38268e27",
   "metadata": {},
   "outputs": [],
   "source": []
  },
  {
   "cell_type": "code",
   "execution_count": null,
   "id": "ef267da1",
   "metadata": {},
   "outputs": [],
   "source": []
  }
 ],
 "metadata": {
  "kernelspec": {
   "display_name": "Python 3 (ipykernel)",
   "language": "python",
   "name": "python3"
  },
  "language_info": {
   "codemirror_mode": {
    "name": "ipython",
    "version": 3
   },
   "file_extension": ".py",
   "mimetype": "text/x-python",
   "name": "python",
   "nbconvert_exporter": "python",
   "pygments_lexer": "ipython3",
   "version": "3.9.13"
  }
 },
 "nbformat": 4,
 "nbformat_minor": 5
}
