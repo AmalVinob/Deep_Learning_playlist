{
 "cells": [
  {
   "cell_type": "code",
   "execution_count": 1,
   "id": "7c56b7bc",
   "metadata": {},
   "outputs": [],
   "source": [
    "from sklearn.datasets import load_diabetes\n",
    "\n",
    "import numpy as np\n",
    "import pandas as pd\n",
    "import matplotlib.pyplot as plt\n",
    "import seaborn as sns\n",
    "from sklearn.linear_model import LinearRegression\n",
    "from sklearn.model_selection import train_test_split\n",
    "from sklearn.metrics import r2_score\n",
    "\n",
    "import time"
   ]
  },
  {
   "cell_type": "code",
   "execution_count": 2,
   "id": "35a85655",
   "metadata": {},
   "outputs": [
    {
     "name": "stdout",
     "output_type": "stream",
     "text": [
      "(442, 10)\n",
      "(442,)\n"
     ]
    }
   ],
   "source": [
    "X, y = load_diabetes(return_X_y=True)\n",
    "print(X.shape)\n",
    "print(y.shape)"
   ]
  },
  {
   "cell_type": "code",
   "execution_count": 49,
   "id": "5621f127",
   "metadata": {},
   "outputs": [],
   "source": [
    "x_train, x_test, y_train, y_test = train_test_split(X, y, test_size=.2, random_state=42)"
   ]
  },
  {
   "cell_type": "code",
   "execution_count": 50,
   "id": "735205b8",
   "metadata": {},
   "outputs": [
    {
     "data": {
      "text/plain": [
       "LinearRegression()"
      ]
     },
     "execution_count": 50,
     "metadata": {},
     "output_type": "execute_result"
    }
   ],
   "source": [
    "reg = LinearRegression()\n",
    "reg.fit(x_train, y_train)"
   ]
  },
  {
   "cell_type": "code",
   "execution_count": 51,
   "id": "cda7652f",
   "metadata": {},
   "outputs": [
    {
     "name": "stdout",
     "output_type": "stream",
     "text": [
      "r2 : 0.452606602161738\n"
     ]
    }
   ],
   "source": [
    "y_predict = reg.predict(x_test)\n",
    "print(f\"r2 : {r2_score(y_test, y_predict)}\")"
   ]
  },
  {
   "cell_type": "code",
   "execution_count": 52,
   "id": "b6d7da4f",
   "metadata": {},
   "outputs": [
    {
     "name": "stdout",
     "output_type": "stream",
     "text": [
      "151.3456553477407\n",
      "[  37.90031426 -241.96624835  542.42575342  347.70830529 -931.46126093\n",
      "  518.04405547  163.40353476  275.31003837  736.18909839   48.67112488]\n"
     ]
    }
   ],
   "source": [
    "print(reg.intercept_)\n",
    "print(reg.coef_)"
   ]
  },
  {
   "cell_type": "code",
   "execution_count": 67,
   "id": "1291be85",
   "metadata": {},
   "outputs": [],
   "source": [
    "import random\n",
    "class Mini_batch_GD:\n",
    "    \n",
    "    def __init__(self,batch_size, learning_rate = 0.01, epochs = 75):\n",
    "        \n",
    "        self.lr = learning_rate\n",
    "        self.epochs = epochs\n",
    "        self.batch_size = batch_size\n",
    "        self.coef_ = None\n",
    "        self.intercept = None\n",
    "        \n",
    "    \n",
    "    def fit(self, x_train, y_train):\n",
    "        self.intercept = 0\n",
    "        self.coef_ = np.ones(x_train.shape[1])\n",
    "        \n",
    "        for i in range(self.epochs):\n",
    "            \n",
    "            for j in range(int(x_train.shape[0]/ self.batch_size)):\n",
    "                \n",
    "                idx = random.sample(range(x_train.shape[0]), self.batch_size)\n",
    "                \n",
    "                y_hat = self.intercept + np.dot(x_train[idx], self.coef_ ) \n",
    "                \n",
    "                slope_intercept = -2 * np.mean(y_train[idx] - y_hat)\n",
    "                self.intercept = self.intercept - (self.lr * slope_intercept)\n",
    "        \n",
    "                slope_coef = -2 * np.dot((y_train[idx] - y_hat),x_train[idx])\n",
    "                self.coef_ = self.coef_ - (self.lr * slope_coef)\n",
    "                                         \n",
    "        print(self.intercept)\n",
    "        print(self.coef_)\n",
    "        \n",
    "        \n",
    "    def predict(self, x_test):\n",
    "        return np.dot(x_test , self.coef_) + self.intercept"
   ]
  },
  {
   "cell_type": "code",
   "execution_count": 68,
   "id": "689dcf40",
   "metadata": {},
   "outputs": [
    {
     "name": "stdout",
     "output_type": "stream",
     "text": [
      "152.69551304809644\n",
      "[  48.12422085 -128.75586006  434.36727248  290.72478044  -31.47612528\n",
      "  -78.33728041 -195.65493584  145.39427222  327.31641559  155.17935552]\n"
     ]
    }
   ],
   "source": [
    "mbgd = Mini_batch_GD(batch_size=int(x_train.shape[0]/50))\n",
    "\n",
    "mbgd.fit(x_train, y_train)"
   ]
  },
  {
   "cell_type": "code",
   "execution_count": 69,
   "id": "0e00453e",
   "metadata": {},
   "outputs": [],
   "source": [
    "y_predi = mbgd.predict(x_test)"
   ]
  },
  {
   "cell_type": "code",
   "execution_count": 70,
   "id": "74a4269a",
   "metadata": {},
   "outputs": [
    {
     "data": {
      "text/plain": [
       "0.45719937981335423"
      ]
     },
     "execution_count": 70,
     "metadata": {},
     "output_type": "execute_result"
    }
   ],
   "source": [
    "r2_score(y_test, y_predi)"
   ]
  },
  {
   "cell_type": "markdown",
   "id": "7c37116c",
   "metadata": {},
   "source": [
    "# from sklearn mini batch"
   ]
  },
  {
   "cell_type": "code",
   "execution_count": 77,
   "id": "8c54042a",
   "metadata": {},
   "outputs": [],
   "source": [
    "from sklearn.linear_model import SGDRegressor"
   ]
  },
  {
   "cell_type": "code",
   "execution_count": 78,
   "id": "364c5aae",
   "metadata": {},
   "outputs": [],
   "source": [
    "sgd = SGDRegressor(learning_rate= 'constant', eta0=0.1)"
   ]
  },
  {
   "cell_type": "code",
   "execution_count": 79,
   "id": "9bad9e02",
   "metadata": {},
   "outputs": [],
   "source": [
    "batch_size = 35\n",
    "\n",
    "for i in range(100):\n",
    "    idx = random.sample(range(x_train.shape[0]), batch_size)\n",
    "    sgd.partial_fit(x_train[idx], y_train[idx])"
   ]
  },
  {
   "cell_type": "code",
   "execution_count": 80,
   "id": "8f62bc9d",
   "metadata": {},
   "outputs": [
    {
     "data": {
      "text/plain": [
       "array([  52.26481929,  -96.60427806,  373.3512852 ,  249.18590807,\n",
       "         -6.39829267,  -47.05956057, -172.36988787,  130.58235856,\n",
       "        282.56338988,  140.90771351])"
      ]
     },
     "execution_count": 80,
     "metadata": {},
     "output_type": "execute_result"
    }
   ],
   "source": [
    "sgd.coef_"
   ]
  },
  {
   "cell_type": "code",
   "execution_count": 81,
   "id": "78e2167e",
   "metadata": {},
   "outputs": [
    {
     "data": {
      "text/plain": [
       "array([165.42098954])"
      ]
     },
     "execution_count": 81,
     "metadata": {},
     "output_type": "execute_result"
    }
   ],
   "source": [
    "sgd.intercept_"
   ]
  },
  {
   "cell_type": "code",
   "execution_count": 82,
   "id": "c3bfbf72",
   "metadata": {},
   "outputs": [
    {
     "data": {
      "text/plain": [
       "0.4201478513796306"
      ]
     },
     "execution_count": 82,
     "metadata": {},
     "output_type": "execute_result"
    }
   ],
   "source": [
    "y_predi = sgd.predict(x_test)\n",
    "r2_score(y_test, y_predi)"
   ]
  },
  {
   "cell_type": "markdown",
   "id": "44ee34bf",
   "metadata": {},
   "source": [
    "# eta0 (Initial Learning Rate)"
   ]
  },
  {
   "cell_type": "code",
   "execution_count": null,
   "id": "f3d5887a",
   "metadata": {},
   "outputs": [],
   "source": []
  }
 ],
 "metadata": {
  "kernelspec": {
   "display_name": "Python 3 (ipykernel)",
   "language": "python",
   "name": "python3"
  },
  "language_info": {
   "codemirror_mode": {
    "name": "ipython",
    "version": 3
   },
   "file_extension": ".py",
   "mimetype": "text/x-python",
   "name": "python",
   "nbconvert_exporter": "python",
   "pygments_lexer": "ipython3",
   "version": "3.9.13"
  }
 },
 "nbformat": 4,
 "nbformat_minor": 5
}
